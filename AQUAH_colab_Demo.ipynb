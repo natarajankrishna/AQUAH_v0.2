{
  "nbformat": 4,
  "nbformat_minor": 0,
  "metadata": {
    "colab": {
      "provenance": []
    },
    "kernelspec": {
      "name": "python3",
      "display_name": "Python 3"
    },
    "language_info": {
      "name": "python"
    }
  },
  "cells": [
    {
      "cell_type": "code",
      "execution_count": null,
      "metadata": {
        "id": "Kuq3Efqqef_v"
      },
      "outputs": [],
      "source": [
        "!pip install -qU pip\n",
        "!pip install -q rasterio cartopy dataretrieval contextily pypandoc\n",
        "!pip install -qq crewai==0.75.0 crewai-tools==0.13.2 \"tokenizers==0.22.0\" requests==2.32.4"
      ]
    },
    {
      "cell_type": "code",
      "source": [
        "!apt-get -qq update\n",
        "!DEBIAN_FRONTEND=noninteractive apt-get install -y -qq pandoc texlive-xetex > /dev/null 2>&1"
      ],
      "metadata": {
        "id": "DoaXA094emee"
      },
      "execution_count": null,
      "outputs": []
    },
    {
      "cell_type": "markdown",
      "source": [
        "Now we download the backend hydrologic model. This takes about 5 minutes to set it up. So, be patient."
      ],
      "metadata": {
        "id": "jngGxDHF9fwb"
      }
    },
    {
      "cell_type": "code",
      "source": [
        "!rm -rf AQUAH_v0.1\n",
        "!git clone https://github.com/chrimerss/AQUAH_v0.1.git\n",
        "%cd /content/AQUAH_v0.1\n",
        "# Download EF5 Model for simulation, it takes about 1 or 2 minutes\n",
        "!rm -rf EF5\n",
        "!git clone https://github.com/chrimerss/EF5.git\n",
        "%cd EF5\n",
        "# Compile EF5 Model\n",
        "!autoreconf --force --install > /dev/null\n",
        "!./configure > /dev/null 2>&1\n",
        "!sed -i 's/-Werror//g' Makefile\n",
        "!make -s > /dev/null 2>&1\n",
        "%cd ..\n",
        "print('Successfully installed EF5.')"
      ],
      "metadata": {
        "id": "lxUql5XMeoMw"
      },
      "execution_count": null,
      "outputs": []
    },
    {
      "cell_type": "markdown",
      "source": [
        "Now, you need to configure with your own API key from openAI. Go to https://platform.openai.com/settings/profile/user to look up your API key.\n",
        "\n",
        "![image.png](https://github.com/chrimerss/AQUAH_v0.1/blob/master/resource/screenshot.jpg?raw=true)\n",
        "\n",
        "For the \"Name\" entry, you can put OPENAI and \"Value\" to be the key."
      ],
      "metadata": {
        "id": "BjU-q1_H5QJP"
      }
    },
    {
      "cell_type": "code",
      "source": [
        "from google.colab import userdata\n",
        "\n",
        "api_key = userdata.get('OPENAI')"
      ],
      "metadata": {
        "id": "QBFylKuC5NGU"
      },
      "execution_count": 4,
      "outputs": []
    },
    {
      "cell_type": "code",
      "source": [
        "from importlib import reload\n",
        "import tools.aquah_run\n",
        "reload(tools.aquah_run)\n",
        "from tools.aquah_run import aquah_run\n",
        "import os\n",
        "import warnings\n",
        "warnings.filterwarnings('ignore')\n",
        "os.environ[\"OPENAI_API_KEY\"] = api_key\n",
        "llm_model_name = 'gpt-4o'\n",
        "# llm_model_name = 'claude-4-sonnet-20250514'\n",
        "# llm_model_name = 'gemini-2.5-flash-preview-05-20'\n",
        "# llm_model_name = 'claude-4-opus-20250514'\n",
        "aquah_run(llm_model_name)"
      ],
      "metadata": {
        "id": "uwa5jmdC1ns2"
      },
      "execution_count": null,
      "outputs": []
    }
  ]
}